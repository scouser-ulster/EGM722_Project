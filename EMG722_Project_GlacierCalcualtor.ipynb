{
 "cells": [
  {
   "cell_type": "markdown",
   "id": "864b8873-a560-4ab1-813c-05668fb79315",
   "metadata": {},
   "source": [
    "### Glacier Ice and Snow Calculator.\n",
    "\n",
    "Steps for the initial part of the project:-\n",
    "1 - Gather Satellite images of a glacier mountainscape (Kenai Mountains) - Using Landsat images\n",
    "2 - Present 3 different time periods (1999, 2010 - 2025 using landsat)\n",
    "3 - Covert images into false colour composite\n",
    "4 - Conduct a classification on both landsat scenes\n",
    "5 - calculate area coverage (km2)\n",
    "6 - present results\n",
    "\n",
    "\n",
    "Potential expansions:-\n",
    "- Expand the study period\n",
    "- Lake changes"
   ]
  },
  {
   "cell_type": "code",
   "execution_count": 1,
   "id": "fb62984c-0dcb-414a-b869-756b1bc239c9",
   "metadata": {},
   "outputs": [],
   "source": [
    "import os\n",
    "import earthaccess\n",
    "import geopandas as gpd\n",
    "import rasterio as rio\n",
    "import rasterio.merge\n",
    "import shapely"
   ]
  },
  {
   "cell_type": "code",
   "execution_count": 2,
   "id": "7ee3f2c3-301a-4c9d-b3f7-597f60979423",
   "metadata": {},
   "outputs": [
    {
     "data": {
      "text/plain": [
       "<earthaccess.auth.Auth at 0x1c804963760>"
      ]
     },
     "execution_count": 2,
     "metadata": {},
     "output_type": "execute_result"
    }
   ],
   "source": [
    "earthaccess.login(strategy='netrc')"
   ]
  },
  {
   "cell_type": "code",
   "execution_count": 16,
   "id": "016a353d-021a-4bb7-9ff1-c804804c86d1",
   "metadata": {},
   "outputs": [],
   "source": [
    "import json"
   ]
  },
  {
   "cell_type": "code",
   "execution_count": 3,
   "id": "eb920c92-091c-4f5d-9f5c-56227e97c992",
   "metadata": {},
   "outputs": [],
   "source": [
    "#First we are going to prepare the dataset by creating a Bounding Box and selecting the dates for the images we are going to use from earthaccess\n",
    "\n",
    "KenaiMountains_BBox = (-161.5, 59.5, -158.0, 60.8)\n",
    "years = [\"1999-08-01\", \"2010-08-01\", \"2025-08-01\"] #Summer months have been selected so that we can have clearer vision of glacier boundaries\n",
    "\n",
    "#We will use the following satellites to acquire images over the Kenai Mountains for each respective time period\n",
    "datasets = {\n",
    "    \"2001\": \"LANDSAT_7_C02_T1\",  \n",
    "    \"2011\": \"LANDSAT_7_C02_T1\",\n",
    "    \"2025\": \"LANDSAT_9_C2_L1\" \n",
    "}"
   ]
  },
  {
   "cell_type": "code",
   "execution_count": 15,
   "id": "d7052f62-5cfb-4b81-baa8-541c703f1058",
   "metadata": {},
   "outputs": [
    {
     "ename": "AttributeError",
     "evalue": "'tuple' object has no attribute 'coords'",
     "output_type": "error",
     "traceback": [
      "\u001b[1;31m---------------------------------------------------------------------------\u001b[0m",
      "\u001b[1;31mAttributeError\u001b[0m                            Traceback (most recent call last)",
      "Cell \u001b[1;32mIn[15], line 3\u001b[0m\n\u001b[0;32m      1\u001b[0m results \u001b[38;5;241m=\u001b[39m earthaccess\u001b[38;5;241m.\u001b[39msearch_data(\n\u001b[0;32m      2\u001b[0m     short_name\u001b[38;5;241m=\u001b[39m\u001b[38;5;124m\"\u001b[39m\u001b[38;5;124mLANDSAT_7_C02_T1\u001b[39m\u001b[38;5;124m\"\u001b[39m,\n\u001b[1;32m----> 3\u001b[0m     bounding_box\u001b[38;5;241m=\u001b[39m\u001b[43mKenaiMountains_BBox\u001b[49m\u001b[38;5;241;43m.\u001b[39;49m\u001b[43mcoords\u001b[49m,\n\u001b[0;32m      4\u001b[0m     cloud_cover\u001b[38;5;241m=\u001b[39m(\u001b[38;5;241m0.0\u001b[39m, \u001b[38;5;241m100.0\u001b[39m),\n\u001b[0;32m      5\u001b[0m )\n\u001b[0;32m      7\u001b[0m \u001b[38;5;28mprint\u001b[39m(\u001b[38;5;28mlen\u001b[39m(results))\n",
      "\u001b[1;31mAttributeError\u001b[0m: 'tuple' object has no attribute 'coords'"
     ]
    }
   ],
   "source": [
    "results = earthaccess.search_data(\n",
    "    short_name=\"LANDSAT_7_C02_T1\",\n",
    "    bounding_box=KenaiMountains_BBox.coords,\n",
    "    cloud_cover=(0.0, 100.0),\n",
    ")\n",
    "\n",
    "print(len(results))"
   ]
  }
 ],
 "metadata": {
  "kernelspec": {
   "display_name": "Python 3 (ipykernel)",
   "language": "python",
   "name": "python3"
  },
  "language_info": {
   "codemirror_mode": {
    "name": "ipython",
    "version": 3
   },
   "file_extension": ".py",
   "mimetype": "text/x-python",
   "name": "python",
   "nbconvert_exporter": "python",
   "pygments_lexer": "ipython3",
   "version": "3.9.22"
  }
 },
 "nbformat": 4,
 "nbformat_minor": 5
}
