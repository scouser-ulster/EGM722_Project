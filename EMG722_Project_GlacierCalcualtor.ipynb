{
 "cells": [
  {
   "cell_type": "markdown",
   "id": "864b8873-a560-4ab1-813c-05668fb79315",
   "metadata": {},
   "source": [
    "### Glacier Ice and Snow Calculator.\n",
    "\n",
    "Steps for the initial part of the project:-\n",
    "1 - Gather Satellite images of a glacier mountainscape (Kenai Mountains) - Using Landsat images\n",
    "2 - Present 3 different time periods (1999, 2010 - 2025 using landsat)\n",
    "3 - Covert images into false colour composite\n",
    "4 - Conduct a classification on both landsat scenes\n",
    "5 - calculate area coverage (km2)\n",
    "6 - present results\n",
    "\n",
    "\n",
    "Potential expansions:-\n",
    "- Expand the study period\n",
    "- Lake changes"
   ]
  },
  {
   "cell_type": "code",
   "execution_count": null,
   "id": "fb62984c-0dcb-414a-b869-756b1bc239c9",
   "metadata": {},
   "outputs": [],
   "source": [
    "import os\n",
    "import earthaccess\n",
    "import geopandas as gpd\n",
    "import rasterio as rio\n",
    "import rasterio.merge\n",
    "import shapely"
   ]
  },
  {
   "cell_type": "code",
   "execution_count": null,
   "id": "eb920c92-091c-4f5d-9f5c-56227e97c992",
   "metadata": {},
   "outputs": [],
   "source": [
    "#First we are going to prepare the dataset by creating a Bounding Box and selecting the dates for the images we are going to use from earthaccess\n",
    "\n",
    "KenaiMountains_BBox = (-161.5, 59.5, -158.0, 60.8)\n",
    "years = [\"1999-08-01\", \"2010-08-01\", \"2025-08-01\"] #Summer months have been selected so that we can have clearer vision of glacier boundaries\n",
    "\n",
    "#We will use the following satellites to acquire images over the Kenai Mountains for each respective time period\n",
    "datasets = {\n",
    "    \"2001\": \"LANDSAT_7_C02_T1\",  \n",
    "    \"2011\": \"LANDSAT_7_C02_T1\",\n",
    "    \"2025\": \"LANDSAT_9_C2_L1\" \n",
    "}"
   ]
  },
  {
   "cell_type": "code",
   "execution_count": 2,
   "id": "ea7f9d36-e24c-46c0-8b10-30fef62afc5c",
   "metadata": {},
   "outputs": [
    {
     "name": "stdout",
     "output_type": "stream",
     "text": [
      "Help on function login in module usgs.api:\n",
      "\n",
      "login(username, token, save=True)\n",
      "    Log in, creating a temporary API key and optionally storing it for later use.\n",
      "    \n",
      "    :param str username: Username of the USGS account to log in with.\n",
      "    :param str token: Application Token of the USGS account to log in with.\n",
      "    :param bool save: If true, the API key will be stored in a local file (~/.usgs)\n",
      "        until `api.logout` is called to remove it. The stored key will be used by\n",
      "        other functions to authenticate requests whenever an API key is not explicitly\n",
      "        provided.\n",
      "\n"
     ]
    }
   ],
   "source": [
    "from usgs import api\n",
    "help(api.login)\n"
   ]
  },
  {
   "cell_type": "code",
   "execution_count": 15,
   "id": "d7052f62-5cfb-4b81-baa8-541c703f1058",
   "metadata": {},
   "outputs": [
    {
     "name": "stdout",
     "output_type": "stream",
     "text": [
      "Logged in!\n"
     ]
    }
   ],
   "source": [
    "from usgs import api\n",
    "\n",
    "#Read username and token from the files\n",
    "with open('C:/Users/couse/.usgs_user', 'r') as file:\n",
    "    username = file.read()\n",
    "\n",
    "with open('C:/Users/couse/.usgs_token', 'r') as file:\n",
    "    password = file.read()\n",
    "\n",
    "#Log in with the actual values\n",
    "api_key = api.login(username, password, save=True)\n",
    "print(\"Logged in!\")\n"
   ]
  },
  {
   "cell_type": "code",
   "execution_count": null,
   "id": "966c0028-09a3-4bc9-993e-247b3b82f5f9",
   "metadata": {},
   "outputs": [],
   "source": []
  }
 ],
 "metadata": {
  "kernelspec": {
   "display_name": "Python 3 (ipykernel)",
   "language": "python",
   "name": "python3"
  },
  "language_info": {
   "codemirror_mode": {
    "name": "ipython",
    "version": 3
   },
   "file_extension": ".py",
   "mimetype": "text/x-python",
   "name": "python",
   "nbconvert_exporter": "python",
   "pygments_lexer": "ipython3",
   "version": "3.9.22"
  }
 },
 "nbformat": 4,
 "nbformat_minor": 5
}
