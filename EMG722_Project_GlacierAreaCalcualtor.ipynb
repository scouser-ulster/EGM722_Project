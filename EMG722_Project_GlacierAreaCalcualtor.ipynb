{
 "cells": [
  {
   "cell_type": "markdown",
   "id": "864b8873-a560-4ab1-813c-05668fb79315",
   "metadata": {},
   "source": [
    "### Glacier Ice and Snow Calculator.\n",
    "\n",
    "Steps for the initial part of the project:-\n",
    "1 - Gather Satellite images of a glacier mountainscape (Kenai Mountains) - Using Landsat images\n",
    "2 - Present 3 different time periods (1999, 2010 - 2025 using landsat)\n",
    "3 - Covert images into false colour composite\n",
    "4 - Conduct a classification on both landsat scenes\n",
    "5 - calculate area coverage (km2)\n",
    "6 - present results\n",
    "\n",
    "\n",
    "Potential expansions:-\n",
    "- Expand the study period\n",
    "- Lake changes"
   ]
  },
  {
   "cell_type": "code",
   "execution_count": 76,
   "id": "fb62984c-0dcb-414a-b869-756b1bc239c9",
   "metadata": {},
   "outputs": [],
   "source": [
    "import os\n",
    "import earthaccess\n",
    "import geopandas as gpd\n",
    "import rasterio as rio\n",
    "import rasterio.merge\n",
    "import shapely\n",
    "import usgs"
   ]
  },
  {
   "cell_type": "code",
   "execution_count": 62,
   "id": "eb920c92-091c-4f5d-9f5c-56227e97c992",
   "metadata": {},
   "outputs": [],
   "source": [
    "#First we are going to prepare the dataset by creating a Bounding Box and selecting the dates for the images we are going to use from earthaccess\n",
    "\n",
    "KenaiMountains_BBox = (-161.5, 59.5, -158.0, 60.8)\n",
    "years = [\"1999-08-01\", \"2010-08-01\", \"2025-08-01\"] #Summer months have been selected so that we can have clearer vision of glacier boundaries\n",
    "\n",
    "#We will use the following satellites to acquire images over the Kenai Mountains for each respective time period\n",
    "datasets = {\n",
    "    \"2000\": \"LANDSAT_7_C02_T1\",  \n",
    "    \"2011\": \"LANDSAT_7_C02_T1\",\n",
    "    \"2025\": \"LANDSAT_9_C2_L1\" \n",
    "}"
   ]
  },
  {
   "cell_type": "code",
   "execution_count": 86,
   "id": "ea7f9d36-e24c-46c0-8b10-30fef62afc5c",
   "metadata": {},
   "outputs": [
    {
     "name": "stdout",
     "output_type": "stream",
     "text": [
      "Successfully logged in to USGS API\n"
     ]
    }
   ],
   "source": [
    "from usgs import api\n",
    "\n",
    "# Open and read the token from the .usgs_token file\n",
    "with open('C:/Users/couse/.usgs_user', 'r') as file:\n",
    "    username = file.read()\n",
    "\n",
    "with open('C:/Users/couse/.usgs_token', 'r') as file:\n",
    "    password = file.read()\n",
    "    \n",
    "# Login to the API using the username and the token as password (or API key)\n",
    "login_response = api.login(username, password, save=True)\n",
    "\n",
    "# Now you are logged in, and you can proceed with other API calls\n",
    "print(\"Successfully logged in to USGS API\")\n",
    "api_key = login_response['data']\n"
   ]
  },
  {
   "cell_type": "code",
   "execution_count": 77,
   "id": "2a8cecef-0fd8-459c-9d90-f58201cfbb31",
   "metadata": {},
   "outputs": [
    {
     "name": "stdout",
     "output_type": "stream",
     "text": [
      "['FuturesSession', 'HTTPAdapter', 'Retry', 'TMPFILE', 'USGSAuthExpiredError', 'USGSError', 'USGS_API', '__builtins__', '__cached__', '__doc__', '__file__', '__loader__', '__name__', '__package__', '__spec__', '__version__', '_check_for_usgs_error', '_create_session', '_get_api_key', 'dataset_download_options', 'dataset_filters', 'dataset_search', 'datetime', 'download_options', 'download_request', 'json', 'login', 'logout', 'os', 'payloads', 'requests', 'scene_metadata', 'scene_search']\n"
     ]
    }
   ],
   "source": [
    "# List all available attributes and methods in the 'usgs.api' module\n",
    "print(dir(usgs.api))"
   ]
  },
  {
   "cell_type": "code",
   "execution_count": 89,
   "id": "c026c5bd-a320-4f39-aafe-b7a1c9196773",
   "metadata": {},
   "outputs": [
    {
     "name": "stdout",
     "output_type": "stream",
     "text": [
      "Datasets you can access:\n",
      "- esat_etm_nopan\n",
      "- esat_etm_pan\n",
      "- ortho_mosaic_etm\n",
      "- geos_5_fp_it\n",
      "- geos_5_it\n",
      "- lima\n",
      "- landsat_mss_c2_l1\n",
      "- landsat_tm_c2_l1\n",
      "- landsat_tm_c2_l2\n",
      "- landsat_ba_tile_c2\n",
      "- landsat_dswe_tile_c2\n",
      "- landsat_fsca_tile_c2\n",
      "- landsat_fsca_tile_stat_c2\n",
      "- landsat_ard_tile_c2\n",
      "- landsat_etm_c2_l1\n",
      "- landsat_etm_c2_l2\n",
      "- landsat_ot_c2_l1\n",
      "- landsat_ot_c2_l2\n",
      "- landsat_band_files_c2_l1\n",
      "- landsat_band_files_c2_l2\n",
      "- lima_mosaic\n",
      "- merra_2_c2\n",
      "- ortho_mss_scene\n",
      "- mss_film\n",
      "- rbv_film\n",
      "- sys_etm\n",
      "- esat_tm\n",
      "- tm_film\n",
      "- ortho_mosaic\n",
      "- viirs_atmos\n"
     ]
    }
   ],
   "source": [
    "# Search for all datasets available under a specific node (e.g., 'EE' = EarthExplorer)\n",
    "response = api.dataset_search(\"landsat\", \"EE\", api_key=api_key)\n",
    "\n",
    "# Print available dataset names\n",
    "if 'data' in response:\n",
    "    print(\"Datasets you can access:\")\n",
    "    for dataset in response['data']:\n",
    "        print(f\"- {dataset['datasetAlias']}\")\n",
    "else:\n",
    "    print(\"No datasets found or access denied.\")"
   ]
  },
  {
   "cell_type": "code",
   "execution_count": null,
   "id": "909b22be-e9ab-498f-afd4-beb33ff61e19",
   "metadata": {
    "scrolled": true
   },
   "outputs": [],
   "source": [
    "# Get filters for the dataset and node\n",
    "filters = api.dataset_filters('landsat_ot_c2_l1', api_key)\n",
    "\n",
    "# Show filter options\n",
    "import json\n",
    "print(json.dumps(filters, indent=2))"
   ]
  },
  {
   "cell_type": "code",
   "execution_count": 106,
   "id": "b4e8df49-a65a-467b-a2c3-fb310051510f",
   "metadata": {},
   "outputs": [],
   "source": [
    "where = {\n",
    "    \"filter_id\": '5e81f14f8d2a7c24',\n",
    "    \"value\": \"043\",\n",
    "    \"operand\": \"=\"\n",
    "}\n"
   ]
  },
  {
   "cell_type": "code",
   "execution_count": 111,
   "id": "f4e73854-91b9-4bd7-bb1c-1098977864e8",
   "metadata": {},
   "outputs": [
    {
     "name": "stdout",
     "output_type": "stream",
     "text": [
      "6\n"
     ]
    }
   ],
   "source": [
    "# Perform the scene search with filters\n",
    "results = api.scene_search(\n",
    "    dataset=\"landsat_ot_c2_l1\",  # Specify the dataset (e.g., LANDSAT_8_C1)\n",
    "    start_date=\"2017-04-01\",  # Start date for the scene search\n",
    "    end_date=\"2017-05-01\",    # End date for the scene search\n",
    "    where=where,              # Apply the 'where' filter\n",
    "    max_results=10,           # Limit the number of results\n",
    "    api_key=api_key    # Provide your API key here\n",
    ")\n",
    "print(len(results))"
   ]
  },
  {
   "cell_type": "code",
   "execution_count": 10,
   "id": "3334fd6f-29fb-49a6-bbbe-22df94b8c4ef",
   "metadata": {},
   "outputs": [
    {
     "name": "stdout",
     "output_type": "stream",
     "text": [
      "Help on function scene_search in module usgs.api:\n",
      "\n",
      "scene_search(dataset, max_results=5000, metadata_type=None, start_date=None, end_date=None, ll=None, ur=None, lat=None, lng=None, distance=100, where=None, starting_number=1, sort_order='DESC', api_key=None)\n",
      "    :param dataset:\n",
      "        USGS dataset (e.g. EO1_HYP_PUB, LANDSAT_8)\n",
      "    :param lat:\n",
      "        Latitude\n",
      "    :param lng:\n",
      "        Longitude\n",
      "    :param distance:\n",
      "        Distance in meters used to for a radial search\n",
      "    :param ll:\n",
      "        Dictionary of longitude/latitude coordinates for the lower left corner\n",
      "        of a bounding box search. e.g. { \"longitude\": 0.0, \"latitude\": 0.0 }\n",
      "    :param ur:\n",
      "        Dictionary of longitude/latitude coordinates for the upper right corner\n",
      "        of a bounding box search. e.g. { \"longitude\": 0.0, \"latitude\": 0.0 }\n",
      "    :param start_date:\n",
      "        Start date for when a scene has been acquired\n",
      "    :param end_date:\n",
      "        End date for when a scene has been acquired\n",
      "    :where:\n",
      "        Dictionary representing key/values for finer grained conditional\n",
      "        queries. Only a subset of metadata fields are supported. Available\n",
      "        fields depend on the value of `dataset`, and maybe be found by\n",
      "        submitting a dataset_filters query.\n",
      "    :max_results:\n",
      "        Maximum results returned by the server\n",
      "    :starting_number:\n",
      "        Starting offset for results of a query.\n",
      "    :sort_order:\n",
      "        Order in which results are sorted. Ascending or descending w.r.t the acquisition date.\n",
      "    :api_key:\n",
      "        API key for EROS. Required for searching.\n",
      "\n"
     ]
    }
   ],
   "source": [
    "help(api.scene_search)\n"
   ]
  }
 ],
 "metadata": {
  "kernelspec": {
   "display_name": "Python 3 (ipykernel)",
   "language": "python",
   "name": "python3"
  },
  "language_info": {
   "codemirror_mode": {
    "name": "ipython",
    "version": 3
   },
   "file_extension": ".py",
   "mimetype": "text/x-python",
   "name": "python",
   "nbconvert_exporter": "python",
   "pygments_lexer": "ipython3",
   "version": "3.9.22"
  }
 },
 "nbformat": 4,
 "nbformat_minor": 5
}
