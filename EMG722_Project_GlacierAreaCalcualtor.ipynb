{
 "cells": [
  {
   "cell_type": "markdown",
   "id": "864b8873-a560-4ab1-813c-05668fb79315",
   "metadata": {},
   "source": [
    "### Glacier Ice and Snow Calculator.\n",
    "\n",
    "Steps for the initial part of the project:-\n",
    "1 - Gather Satellite images of a glacier mountainscape (Kenai Mountains) - Using Landsat images\n",
    "2 - Present 3 different time periods (1999, 2010 - 2025 using landsat)\n",
    "3 - Covert images into false colour composite\n",
    "4 - Conduct a classification on both landsat scenes\n",
    "5 - calculate area coverage (km2)\n",
    "6 - present results\n",
    "\n",
    "\n",
    "Potential expansions:-\n",
    "- Expand the study period and get more mountains glaciers\n",
    "- Compare volume changes"
   ]
  },
  {
   "cell_type": "code",
   "execution_count": 149,
   "id": "fb62984c-0dcb-414a-b869-756b1bc239c9",
   "metadata": {},
   "outputs": [],
   "source": [
    "import os\n",
    "import geopandas as gpd\n",
    "import rasterio as rio\n",
    "import rasterio.merge\n",
    "import shapely\n",
    "import usgs"
   ]
  },
  {
   "cell_type": "code",
   "execution_count": 167,
   "id": "ea7f9d36-e24c-46c0-8b10-30fef62afc5c",
   "metadata": {},
   "outputs": [],
   "source": [
    "#As Landsat imagery is going to be the source of satellite imagery covering the glaciers used in this study, the first step is to log in to the USGS API using a username and token\n",
    "from usgs import api\n",
    "\n",
    "# Open and manually read the username from the .usgs_user file in the home directory\n",
    "with open('C:/Users/couse/.usgs_user', 'r') as usertext:\n",
    "    username = usertext.read()\n",
    "\n",
    "#Open and manually read the password/token from the.usgs_token in the home directory\n",
    "with open('C:/Users/couse/.usgs_token', 'r') as tokentext:\n",
    "    password = tokentext.read()\n",
    "    \n",
    "# Login to the API using the username and the token(API_KEY provided by the USGS) as password\n",
    "login = api.login(username, password, save=True)\n",
    "\n",
    "#Below the API Key (token) is extracted separately as it will be used for the functions later in the script\n",
    "api_key = login['data']"
   ]
  },
  {
   "cell_type": "code",
   "execution_count": 77,
   "id": "2a8cecef-0fd8-459c-9d90-f58201cfbb31",
   "metadata": {},
   "outputs": [
    {
     "name": "stdout",
     "output_type": "stream",
     "text": [
      "['FuturesSession', 'HTTPAdapter', 'Retry', 'TMPFILE', 'USGSAuthExpiredError', 'USGSError', 'USGS_API', '__builtins__', '__cached__', '__doc__', '__file__', '__loader__', '__name__', '__package__', '__spec__', '__version__', '_check_for_usgs_error', '_create_session', '_get_api_key', 'dataset_download_options', 'dataset_filters', 'dataset_search', 'datetime', 'download_options', 'download_request', 'json', 'login', 'logout', 'os', 'payloads', 'requests', 'scene_metadata', 'scene_search']\n"
     ]
    }
   ],
   "source": [
    "# To get a better understanding of all the functions and methods available in the 'usgs.api' a directory is printed below\n",
    "print(dir(usgs.api))"
   ]
  },
  {
   "cell_type": "code",
   "execution_count": 113,
   "id": "154cef83-533f-4462-b031-e1dae1d19535",
   "metadata": {},
   "outputs": [
    {
     "name": "stdout",
     "output_type": "stream",
     "text": [
      "Help on function dataset_search in module usgs.api:\n",
      "\n",
      "dataset_search(dataset=None, catalog=None, ll=None, ur=None, start_date=None, end_date=None, api_key=None)\n",
      "\n"
     ]
    }
   ],
   "source": [
    "help(api.dataset_search)"
   ]
  },
  {
   "cell_type": "code",
   "execution_count": null,
   "id": "63217b60-9666-448c-892f-ae4c2a8cf5f1",
   "metadata": {},
   "outputs": [],
   "source": [
    "Available_Satellites = api.dataset_search()\n",
    "print(Available_Satellites)"
   ]
  },
  {
   "cell_type": "code",
   "execution_count": 163,
   "id": "c026c5bd-a320-4f39-aafe-b7a1c9196773",
   "metadata": {},
   "outputs": [
    {
     "name": "stdout",
     "output_type": "stream",
     "text": [
      "esat_etm_nopan\n",
      "esat_etm_pan\n",
      "ortho_mosaic_etm\n",
      "geos_5_fp_it\n",
      "geos_5_it\n",
      "lima\n",
      "landsat_mss_c2_l1\n",
      "landsat_tm_c2_l1\n",
      "landsat_tm_c2_l2\n",
      "landsat_ba_tile_c2\n",
      "landsat_dswe_tile_c2\n",
      "landsat_fsca_tile_c2\n",
      "landsat_fsca_tile_stat_c2\n",
      "landsat_ard_tile_c2\n",
      "landsat_etm_c2_l1\n",
      "landsat_etm_c2_l2\n",
      "landsat_ot_c2_l1\n",
      "landsat_ot_c2_l2\n",
      "landsat_band_files_c2_l1\n",
      "landsat_band_files_c2_l2\n",
      "lima_mosaic\n",
      "merra_2_c2\n",
      "ortho_mss_scene\n",
      "mss_film\n",
      "rbv_film\n",
      "sys_etm\n",
      "esat_tm\n",
      "tm_film\n",
      "ortho_mosaic\n",
      "viirs_atmos\n"
     ]
    }
   ],
   "source": [
    "# The Landsat images comes from the EarthExplorer (EE) dataset (node), in order to get an idea of what Landsat data is available\n",
    "satellite_avail = api.dataset_search(\"landsat\", \"EE\", api_key=api_key)\n",
    "\n",
    "# The code below prints out each Satellites dataset identified in the api.dataset_search which are available for this project using the provided API Key\n",
    "for dataset in satellite_avail['data']:\n",
    "        print(dataset['datasetAlias'])"
   ]
  },
  {
   "cell_type": "code",
   "execution_count": 62,
   "id": "eb920c92-091c-4f5d-9f5c-56227e97c992",
   "metadata": {},
   "outputs": [],
   "source": [
    "#First we are going to prepare the dataset by creating a Bounding Box and selecting the dates for the images we are going to use from earthaccess\n",
    "\n",
    "KenaiMountains_BBox = (-161.5, 59.5, -158.0, 60.8)\n",
    "years = [\"1999-08-01\", \"2010-08-01\", \"2025-08-01\"] #Summer months have been selected so that we can have clearer vision of glacier boundaries\n",
    "\n",
    "#We will use the following satellites to acquire images over the Kenai Mountains for each respective time period\n",
    "datasets = {\n",
    "    \"2000\": \"LANDSAT_7_C02_T1\",  \n",
    "    \"2011\": \"LANDSAT_7_C02_T1\",\n",
    "    \"2025\": \"LANDSAT_9_C2_L1\" \n",
    "}"
   ]
  },
  {
   "cell_type": "code",
   "execution_count": null,
   "id": "909b22be-e9ab-498f-afd4-beb33ff61e19",
   "metadata": {
    "scrolled": true
   },
   "outputs": [],
   "source": [
    "# Get filters for the dataset and node\n",
    "filters = api.dataset_filters('landsat_ot_c2_l1', api_key)\n",
    "\n",
    "# Show filter options\n",
    "import json\n",
    "print(json.dumps(filters, indent=2))"
   ]
  },
  {
   "cell_type": "code",
   "execution_count": 106,
   "id": "b4e8df49-a65a-467b-a2c3-fb310051510f",
   "metadata": {},
   "outputs": [],
   "source": [
    "where = {\n",
    "    \"filter_id\": '5e81f14f8d2a7c24',\n",
    "    \"value\": \"043\",\n",
    "    \"operand\": \"=\"\n",
    "}\n"
   ]
  },
  {
   "cell_type": "code",
   "execution_count": null,
   "id": "f4e73854-91b9-4bd7-bb1c-1098977864e8",
   "metadata": {},
   "outputs": [],
   "source": [
    "# Perform the scene search with filters\n",
    "results = api.scene_search(\n",
    "    dataset=\"landsat_ot_c2_l1\",  # Specify the dataset (e.g., LANDSAT_8_C1)\n",
    "    start_date=\"2017-04-01\",  # Start date for the scene search\n",
    "    end_date=\"2017-05-01\",    # End date for the scene search\n",
    "    where=where,              # Apply the 'where' filter\n",
    "    max_results=10,           # Limit the number of results\n",
    "    api_key=api_key    # Provide your API key here\n",
    ")\n",
    "for scene in results['data']['results']:\n",
    "    print(scene['entityId'])  # or 'entity_id' depending on API naming\n",
    "\n",
    "\n",
    "\n",
    "print(len(results))"
   ]
  },
  {
   "cell_type": "code",
   "execution_count": 10,
   "id": "3334fd6f-29fb-49a6-bbbe-22df94b8c4ef",
   "metadata": {},
   "outputs": [
    {
     "name": "stdout",
     "output_type": "stream",
     "text": [
      "Help on function scene_search in module usgs.api:\n",
      "\n",
      "scene_search(dataset, max_results=5000, metadata_type=None, start_date=None, end_date=None, ll=None, ur=None, lat=None, lng=None, distance=100, where=None, starting_number=1, sort_order='DESC', api_key=None)\n",
      "    :param dataset:\n",
      "        USGS dataset (e.g. EO1_HYP_PUB, LANDSAT_8)\n",
      "    :param lat:\n",
      "        Latitude\n",
      "    :param lng:\n",
      "        Longitude\n",
      "    :param distance:\n",
      "        Distance in meters used to for a radial search\n",
      "    :param ll:\n",
      "        Dictionary of longitude/latitude coordinates for the lower left corner\n",
      "        of a bounding box search. e.g. { \"longitude\": 0.0, \"latitude\": 0.0 }\n",
      "    :param ur:\n",
      "        Dictionary of longitude/latitude coordinates for the upper right corner\n",
      "        of a bounding box search. e.g. { \"longitude\": 0.0, \"latitude\": 0.0 }\n",
      "    :param start_date:\n",
      "        Start date for when a scene has been acquired\n",
      "    :param end_date:\n",
      "        End date for when a scene has been acquired\n",
      "    :where:\n",
      "        Dictionary representing key/values for finer grained conditional\n",
      "        queries. Only a subset of metadata fields are supported. Available\n",
      "        fields depend on the value of `dataset`, and maybe be found by\n",
      "        submitting a dataset_filters query.\n",
      "    :max_results:\n",
      "        Maximum results returned by the server\n",
      "    :starting_number:\n",
      "        Starting offset for results of a query.\n",
      "    :sort_order:\n",
      "        Order in which results are sorted. Ascending or descending w.r.t the acquisition date.\n",
      "    :api_key:\n",
      "        API key for EROS. Required for searching.\n",
      "\n"
     ]
    }
   ],
   "source": [
    "help(api.scene_search)\n"
   ]
  },
  {
   "cell_type": "code",
   "execution_count": 148,
   "id": "d28da944-36be-45a3-9964-66fcd821a6dc",
   "metadata": {},
   "outputs": [
    {
     "name": "stdout",
     "output_type": "stream",
     "text": [
      "Help on function logout in module usgs.api:\n",
      "\n",
      "logout()\n",
      "    Log out by deactivating and removing the stored API key, if one exists.\n",
      "\n"
     ]
    }
   ],
   "source": [
    "help(api.logout)"
   ]
  },
  {
   "cell_type": "code",
   "execution_count": 166,
   "id": "a4be776c-f8ec-446f-82d9-5936efeaa7a7",
   "metadata": {},
   "outputs": [
    {
     "data": {
      "text/plain": [
       "{'errorCode': 'AUTH_EXPIRED',\n",
       " 'errorMessage': 'API key has expired due to inactivity, please logout and re-login.',\n",
       " 'data': None,\n",
       " 'requestId': 0,\n",
       " 'sessionId': None,\n",
       " 'version': None}"
      ]
     },
     "execution_count": 166,
     "metadata": {},
     "output_type": "execute_result"
    }
   ],
   "source": [
    "#Logout and Deactivate the API Key used in the login\n",
    "api.logout()"
   ]
  },
  {
   "cell_type": "code",
   "execution_count": 170,
   "id": "3fb4673b-7a4c-4106-88f6-dc6565d7320e",
   "metadata": {},
   "outputs": [
    {
     "name": "stdout",
     "output_type": "stream",
     "text": [
      "Help on function dataset_download_options in module usgs.api:\n",
      "\n",
      "dataset_download_options(dataset, api_key=None)\n",
      "    The dataset download options method is used to discover downloadable\n",
      "    products for a specified dataset. Unlike the `download_options` method,\n",
      "    this does not check product availability.\n",
      "    \n",
      "    :param str dataset: Used to identify the which dataset to return results for.\n",
      "\n"
     ]
    }
   ],
   "source": [
    "help(api.dataset_download_options)"
   ]
  },
  {
   "cell_type": "code",
   "execution_count": 171,
   "id": "3f1795ac-6535-4baf-a12e-59016d82af22",
   "metadata": {},
   "outputs": [
    {
     "data": {
      "text/plain": [
       "{'requestId': 1981786291,\n",
       " 'version': 'stable',\n",
       " 'sessionId': 314900882,\n",
       " 'data': [{'productId': '632211e26883b1f7',\n",
       "   'productCode': 'D805',\n",
       "   'productName': 'Landsat Collection 2 Level-1 Product Bundle',\n",
       "   'downloadName': '',\n",
       "   'downloadSystem': 'dds_ms',\n",
       "   'fileGroups': None},\n",
       "  {'productId': '73ceb05468b7e8c2',\n",
       "   'productCode': 'D687',\n",
       "   'productName': 'Landsat Collection 2 Level-1 Band File',\n",
       "   'downloadName': 'C2L1 Tile Product Files',\n",
       "   'downloadSystem': 'folder',\n",
       "   'fileGroups': None},\n",
       "  {'productId': '6447cc2e2a09aab6',\n",
       "   'productCode': 'D689',\n",
       "   'productName': 'Landsat Collection 2 Level-1 Band File',\n",
       "   'downloadName': 'C2L1 Tile Product Files',\n",
       "   'downloadSystem': 'folder',\n",
       "   'fileGroups': None},\n",
       "  {'productId': '5e81f14f92acf9ef',\n",
       "   'productCode': 'D690',\n",
       "   'productName': 'Landsat Collection 2 Level-1 Product Bundle',\n",
       "   'downloadName': '',\n",
       "   'downloadSystem': 'ls_zip',\n",
       "   'fileGroups': None},\n",
       "  {'productId': '5e9eb01274d7924f',\n",
       "   'productCode': 'D734',\n",
       "   'productName': 'Full-Resolution Browse (Natural Color) GeoTIFF',\n",
       "   'downloadName': 'Full Resolution Browse (Reflective Color) GeoTIFF',\n",
       "   'downloadSystem': 'ls_frb',\n",
       "   'fileGroups': None},\n",
       "  {'productId': '5e9eb12795d8231b',\n",
       "   'productCode': 'D735',\n",
       "   'productName': 'Full-Resolution Browse (Thermal) GeoTIFF',\n",
       "   'downloadName': '',\n",
       "   'downloadSystem': 'ls_frb',\n",
       "   'fileGroups': None},\n",
       "  {'productId': '5e9eb2249228fe8f',\n",
       "   'productCode': 'D736',\n",
       "   'productName': 'Full-Resolution Browse (Quality) GeoTIFF',\n",
       "   'downloadName': None,\n",
       "   'downloadSystem': 'ls_frb',\n",
       "   'fileGroups': None},\n",
       "  {'productId': '5f6184a83f05bbf9',\n",
       "   'productCode': 'D731',\n",
       "   'productName': 'Full-Resolution Browse (Natural Color) JPEG',\n",
       "   'downloadName': 'Full Resolution Browse (Reflective Color) JPEG',\n",
       "   'downloadSystem': 'ls_frb',\n",
       "   'fileGroups': None},\n",
       "  {'productId': '5f618512b2d7b4be',\n",
       "   'productCode': 'D732',\n",
       "   'productName': 'Full-Resolution Browse (Thermal) JPEG',\n",
       "   'downloadName': None,\n",
       "   'downloadSystem': 'ls_frb',\n",
       "   'fileGroups': None},\n",
       "  {'productId': '5f618552dc40c587',\n",
       "   'productCode': 'D733',\n",
       "   'productName': 'Full-Resolution Browse (Quality) JPEG',\n",
       "   'downloadName': None,\n",
       "   'downloadSystem': 'ls_frb',\n",
       "   'fileGroups': None}],\n",
       " 'errorCode': None,\n",
       " 'errorMessage': None}"
      ]
     },
     "execution_count": 171,
     "metadata": {},
     "output_type": "execute_result"
    }
   ],
   "source": [
    "api.dataset_download_options(\n",
    "    dataset = \"landsat_ot_c2_l1\",\n",
    "    api_key = api_key)"
   ]
  },
  {
   "cell_type": "code",
   "execution_count": 172,
   "id": "4892961f-b075-4bee-b973-2d1bcf2cadb2",
   "metadata": {},
   "outputs": [
    {
     "name": "stdout",
     "output_type": "stream",
     "text": [
      "Help on function download_request in module usgs.api:\n",
      "\n",
      "download_request(dataset, entity_id, product_id, api_key=None)\n",
      "    This method is used to insert the requested downloads into the download queue\n",
      "    and returns the available download URLs.\n",
      "\n"
     ]
    }
   ],
   "source": [
    "help(api.download_request)"
   ]
  },
  {
   "cell_type": "code",
   "execution_count": 173,
   "id": "37ae73a7-50b3-41e7-808f-dbc846eb8c2a",
   "metadata": {},
   "outputs": [
    {
     "name": "stdout",
     "output_type": "stream",
     "text": [
      "Help on function download_options in module usgs.api:\n",
      "\n",
      "download_options(dataset, entity_ids, api_key=None)\n",
      "\n"
     ]
    }
   ],
   "source": [
    "help(api.download_options)"
   ]
  },
  {
   "cell_type": "code",
   "execution_count": null,
   "id": "7aa9ecac-f85e-4ef5-8765-ff0de11b123b",
   "metadata": {},
   "outputs": [],
   "source": [
    "api.download_options(\n",
    "    dataset=\"landsat_ot_c2_l1\",\n",
    "    entity_ids=\"LC81380432017120LGN00\",\n",
    "    api_key=api_key)"
   ]
  },
  {
   "cell_type": "code",
   "execution_count": 195,
   "id": "5f7537ec-bad2-4fec-b20d-76cc4267b181",
   "metadata": {},
   "outputs": [
    {
     "name": "stdout",
     "output_type": "stream",
     "text": [
      "{'requestId': 1981806463, 'version': 'stable', 'sessionId': 314900882, 'data': {'availableDownloads': [{'downloadId': 784794788, 'eulaCode': None, 'entityId': 'LC80720432017121LGN00', 'url': 'https://landsatlook.usgs.gov/gen-bundle?landsat_product_id=LC08_L1GT_072043_20170501_20201016_02_T2&requestSignature=eyJkb3dubG9hZEFwcCI6IkVFIiwiY29udGFjdElkIjoyNjk1MTIzNSwiZG93bmxvYWRJZCI6Nzg0Nzk0Nzg4LCJkYXRlR2VuZXJhdGVkIjoiMjAyNS0wNC0yNFQxNDowMDoxMS0wNTowMCIsImlkIjoiTEMwOF9MMUdUXzA3MjA0M18yMDE3MDUwMV8yMDIwMTAxNl8wMl9UMiIsInNpZ25hdHVyZSI6IiQ1JCRKSWRTdkhMTGxRRW15Wk5ESm5VUDdSa1Viei5YRW10UEp6Y2I4OG4xREUxIn0='}], 'duplicateProducts': [], 'preparingDownloads': [], 'failed': [], 'newRecords': {'784794788': 'm2m_1981806463_20250424140011'}, 'remainingLimits': [{'limitType': 'user', 'username': 'couser-s2@ulster.ac.uk', 'recentDownloadCount': 14999, 'pendingDownloadCount': 20000, 'unattemptedDownloadCount': 20000}, {'limitType': 'ip', 'ipAddress': '128.1.171.132', 'recentDownloadCount': 14999, 'pendingDownloadCount': 20000, 'unattemptedDownloadCount': 20000}], 'numInvalidScenes': 0}, 'errorCode': None, 'errorMessage': None}\n"
     ]
    }
   ],
   "source": [
    "download_options = api.download_request(\n",
    "    dataset=\"landsat_ot_c2_l1\",\n",
    "    entity_id=\"LC80720432017121LGN00\",\n",
    "    product_id=\"5e81f14f92acf9ef\",\n",
    "    api_key=api_key\n",
    ")\n",
    "print(download_options)"
   ]
  },
  {
   "cell_type": "code",
   "execution_count": 192,
   "id": "33f4d18a-d89b-48ac-8431-b394c6a48b43",
   "metadata": {},
   "outputs": [
    {
     "name": "stdout",
     "output_type": "stream",
     "text": [
      "Help on function download_request in module usgs.api:\n",
      "\n",
      "download_request(dataset, entity_id, product_id, api_key=None)\n",
      "    This method is used to insert the requested downloads into the download queue\n",
      "    and returns the available download URLs.\n",
      "\n"
     ]
    }
   ],
   "source": [
    "help(api.download_request)"
   ]
  },
  {
   "cell_type": "code",
   "execution_count": 196,
   "id": "46b61d3e-746b-43e9-8adb-678a36a8ce4a",
   "metadata": {},
   "outputs": [
    {
     "name": "stdout",
     "output_type": "stream",
     "text": [
      "Help on module usgs.payloads in usgs:\n",
      "\n",
      "NAME\n",
      "    usgs.payloads\n",
      "\n",
      "FUNCTIONS\n",
      "    dataset_download_options(dataset)\n",
      "        The dataset download options request is used to discover downloadable\n",
      "        products for a specified dataset. Unlike the `download_options` request,\n",
      "        this does not check product availability.\n",
      "        \n",
      "        :param str dataset: Used to identify the which dataset to return results for.\n",
      "    \n",
      "    dataset_filters(dataset)\n",
      "        This request is used to return the metadata filter fields for the specified\n",
      "        dataset. These values can be used as additional criteria when submitting search\n",
      "        and hit queries.\n",
      "        \n",
      "        :param str dataset:\n",
      "    \n",
      "    dataset_search(dataset, catalog, start_date=None, end_date=None, ll=None, ur=None)\n",
      "        This method is used to find datasets available for searching. By passing only\n",
      "        an API Key, all available datasets are returned. Additional parameters such\n",
      "        as temporal range and spatial bounding box can be used to find datasets that\n",
      "        provide more specific data. The dataset name parameter can be used to limit\n",
      "        the results based on matching the supplied value against the public dataset\n",
      "        name with assumed wildcards at the beginning and end.\n",
      "        \n",
      "        :param str dataset:\n",
      "        :param str catalog:\n",
      "        :param start_date:\n",
      "            Used for searching scene acquisition - will accept anything\n",
      "            that the PHP strtotime function can understand\n",
      "        \n",
      "        :param end_date:\n",
      "            Used for searching scene acquisition - will accept anything\n",
      "            that the PHP strtotime function can understand\n",
      "        \n",
      "        :param ll:\n",
      "            Lower left corner of an AOI bounding box - in decimal form\n",
      "            Longitude/Latitude dictionary\n",
      "        \n",
      "            e.g. { \"longitude\": 0.0, \"latitude\": 0.0 }\n",
      "        \n",
      "        :param ur:\n",
      "            Upper right corner of an AOI bounding box - in decimal form\n",
      "            Longitude/Latitude dictionary\n",
      "        \n",
      "            e.g. { \"longitude\": 0.0, \"latitude\": 0.0 }\n",
      "    \n",
      "    download_options(dataset, entity_ids)\n",
      "        The download options request is used to discover downloadable products for\n",
      "        each dataset. If a download is marked as not available, an order must be\n",
      "        placed to generate that product.\n",
      "        \n",
      "        :param str dataset:\n",
      "        :param str entity_ids:\n",
      "    \n",
      "    download_request(dataset, entity_id, product_id)\n",
      "        The use of this request will be to obtain valid data download URLs.\n",
      "        \n",
      "        :param str dataset:\n",
      "        :param str entity_id:\n",
      "        :param str product_id:\n",
      "    \n",
      "    great_circle_dist(lat, lng, dist)\n",
      "    \n",
      "    login(username, token)\n",
      "        Upon a successful login, an API key will be returned. This key will be active\n",
      "        for two hours and should be destroyed upon final use of the service by calling\n",
      "        the logout method.\n",
      "        \n",
      "        :param str username:\n",
      "        :param str token:\n",
      "    \n",
      "    scene_metadata(dataset, entity_id)\n",
      "        The use of the metadata request is intended for those who have\n",
      "        acquired scene IDs from a different source. It will return the\n",
      "        same metadata that is available via the search request.\n",
      "        \n",
      "        :param dataset:\n",
      "        :param entity_id:\n",
      "    \n",
      "    scene_search(dataset, max_results=None, metadata_type=None, start_date=None, end_date=None, ll=None, ur=None, lat=None, lng=None, distance=100, where=None, starting_number=None)\n",
      "\n",
      "DATA\n",
      "    CATALOG_NODES = ['EE', 'HDDS']\n",
      "\n",
      "FILE\n",
      "    c:\\users\\couse\\anaconda3\\envs\\egm722_project\\lib\\site-packages\\usgs\\payloads.py\n",
      "\n",
      "\n"
     ]
    }
   ],
   "source": [
    "help(api.payloads)"
   ]
  }
 ],
 "metadata": {
  "kernelspec": {
   "display_name": "Python 3 (ipykernel)",
   "language": "python",
   "name": "python3"
  },
  "language_info": {
   "codemirror_mode": {
    "name": "ipython",
    "version": 3
   },
   "file_extension": ".py",
   "mimetype": "text/x-python",
   "name": "python",
   "nbconvert_exporter": "python",
   "pygments_lexer": "ipython3",
   "version": "3.9.22"
  }
 },
 "nbformat": 4,
 "nbformat_minor": 5
}
